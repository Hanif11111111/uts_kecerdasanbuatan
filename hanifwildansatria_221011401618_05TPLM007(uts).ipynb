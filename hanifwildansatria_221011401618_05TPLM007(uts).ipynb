{
 "cells": [
  {
   "cell_type": "code",
   "execution_count": 2,
   "id": "fd746fff-c675-4826-9a45-50beb67ac529",
   "metadata": {},
   "outputs": [],
   "source": [
    "# Data\n",
    "\n",
    "company_detail_list = [\n",
    "      {\n",
    "          'name': 'Company 1',\n",
    "          'domain': 'Retail',\n",
    "          'country': 'United States'\n",
    "      },\n",
    "      {\n",
    "          'name': 'Company 2',\n",
    "          'domain': 'Technology',\n",
    "          'country': 'United Kingdom'\n",
    "      },\n",
    "      {\n",
    "          'name': 'Company 3',\n",
    "          'domain': 'Healthcare',\n",
    "          'country': 'United States'\n",
    "      }\n",
    "  ]\n",
    "\n",
    "employee_detail_list = [\n",
    "     {\n",
    "          'name': 'EMP-0001',\n",
    "          'first_name': 'John',\n",
    "          'last_name': 'Doe',\n",
    "          'full_name': 'John Doe',\n",
    "          'company': 'Company 1',\n",
    "          'nationality': 'Australia'\n",
    "      },\n",
    "      {\n",
    "          'name': 'EMP-0002',\n",
    "          'first_name': 'Tom',\n",
    "          'last_name': 'Smith',\n",
    "          'full_name': 'Tom Smith',\n",
    "          'company': 'Company 2',\n",
    "          'nationality': 'United States'\n",
    "      },\n",
    "      {\n",
    "          'name': 'EMP-0003',\n",
    "          'first_name': 'Andrew',\n",
    "          'last_name': 'Sebastian',\n",
    "          'full_name': 'Andrew Sebastian',\n",
    "          'company': 'Company 3',\n",
    "          'nationality': 'United States'\n",
    "      },\n",
    "      {\n",
    "          'name': 'EMP-0005',\n",
    "          'first_name': 'Ying Han',\n",
    "          'last_name': 'Tan',\n",
    "          'full_name': 'Ying Han Tan',\n",
    "          'company': 'Company 1',\n",
    "          'nationality': 'Australia'\n",
    "      },\n",
    "      {\n",
    "          'name': 'EMP-0015',\n",
    "          'first_name': 'Kenneth',\n",
    "          'last_name': 'Ng',\n",
    "          'full_name': 'Kenneth Ng',\n",
    "          'company': 'Company 3',\n",
    "          'nationality': 'United States'\n",
    "      },\n",
    "      {\n",
    "          'name': 'EMP-0018',\n",
    "          'first_name': 'Rubby',\n",
    "          'last_name': 'Lee',\n",
    "          'full_name': 'Rubby Lee',\n",
    "          'company': 'Company 2',\n",
    "          'nationality': 'Hong Kong'\n",
    "      },\n",
    "     {\n",
    "          'name': 'EMP-0017',\n",
    "          'first_name': 'Robert',\n",
    "          'last_name': 'White',\n",
    "          'full_name': 'Robert White',\n",
    "          'company': 'Company 1',\n",
    "          'nationality': 'United Kingdom'\n",
    "      }\n",
    "  ]"
   ]
  },
  {
   "cell_type": "code",
   "execution_count": 3,
   "id": "e76bfdb3-73eb-474b-97fb-9af9bbe7c565",
   "metadata": {},
   "outputs": [
    {
     "data": {
      "text/plain": [
       "[{'name': 'Company 3'}, {'name': 'Company 2'}, {'name': 'Company 1'}]"
      ]
     },
     "execution_count": 3,
     "metadata": {},
     "output_type": "execute_result"
    }
   ],
   "source": [
    "# Menyortir perusahaan berdasarkan nama secara terbalik dan memformat output\n",
    "sorted_companies = sorted(\n",
    "    [{'name': company['name']} for company in company_detail_list],\n",
    "    key=lambda x: x['name'],\n",
    "    reverse=True\n",
    ")\n",
    "\n",
    "# Menampilkan hasil\n",
    "sorted_companies\n"
   ]
  },
  {
   "cell_type": "code",
   "execution_count": 4,
   "id": "c4ab1864-bc99-47cc-ac90-d3e6de333e82",
   "metadata": {},
   "outputs": [
    {
     "name": "stdout",
     "output_type": "stream",
     "text": [
      "Company 1: Retail (United States)\n",
      "Company 2: Technology (United Kingdom)\n",
      "Company 3: Healthcare (United States)\n"
     ]
    }
   ],
   "source": [
    "for company in company_detail_list:\n",
    "    print(f\"{company['name']}: {company['domain']} ({company['country']})\")\n"
   ]
  },
  {
   "cell_type": "code",
   "execution_count": 5,
   "id": "2191db20-e501-4d35-a3f3-17c602debde5",
   "metadata": {},
   "outputs": [
    {
     "data": {
      "text/plain": [
       "{'Retail': ['John Doe', 'Ying Han Tan', 'Robert White'],\n",
       " 'Technology': ['Tom Smith', 'Rubby Lee'],\n",
       " 'Healthcare': ['Andrew Sebastian', 'Kenneth Ng']}"
      ]
     },
     "execution_count": 5,
     "metadata": {},
     "output_type": "execute_result"
    }
   ],
   "source": [
    "# Pemetaan nama perusahaan ke domain\n",
    "company_domains = {company['name']: company['domain'] for company in company_detail_list}\n",
    "\n",
    "# Mengelompokkan karyawan berdasarkan domain\n",
    "employees_by_domain = {}\n",
    "for employee in employee_detail_list:\n",
    "    domain = company_domains[employee['company']]\n",
    "    employees_by_domain.setdefault(domain, []).append(employee['full_name'])\n",
    "    \n",
    "# Menampilkan hasil\n",
    "employees_by_domain\n"
   ]
  },
  {
   "cell_type": "code",
   "execution_count": 6,
   "id": "a45d373a-5a10-4bc5-9315-9ff2ae7e5763",
   "metadata": {},
   "outputs": [
    {
     "data": {
      "text/plain": [
       "[{'full_name': 'John Doe', 'company': 'Company 1', 'country': 'United States'},\n",
       " {'full_name': 'Tom Smith',\n",
       "  'company': 'Company 2',\n",
       "  'country': 'United Kingdom'},\n",
       " {'full_name': 'Andrew Sebastian',\n",
       "  'company': 'Company 3',\n",
       "  'country': 'United States'},\n",
       " {'full_name': 'Ying Han Tan',\n",
       "  'company': 'Company 1',\n",
       "  'country': 'United States'},\n",
       " {'full_name': 'Kenneth Ng',\n",
       "  'company': 'Company 3',\n",
       "  'country': 'United States'},\n",
       " {'full_name': 'Rubby Lee',\n",
       "  'company': 'Company 2',\n",
       "  'country': 'United Kingdom'},\n",
       " {'full_name': 'Robert White',\n",
       "  'company': 'Company 1',\n",
       "  'country': 'United States'}]"
      ]
     },
     "execution_count": 6,
     "metadata": {},
     "output_type": "execute_result"
    }
   ],
   "source": [
    "# Defining the function to return employees with their company's country information\n",
    "def get_employees_with_company_country(employee_list, company_list):\n",
    "    # Creating a dictionary to map each company name to its country\n",
    "    company_countries = {company['name']: company['country'] for company in company_list}\n",
    "    \n",
    "    # Constructing the result list with each employee's full name, company, and company's country\n",
    "    employees_with_country = [\n",
    "        {\n",
    "            \"full_name\": employee[\"full_name\"],\n",
    "            \"company\": employee[\"company\"],\n",
    "            \"country\": company_countries[employee[\"company\"]]\n",
    "        }\n",
    "        for employee in employee_list\n",
    "    ]\n",
    "    \n",
    "    return employees_with_country\n",
    "\n",
    "# Testing the function\n",
    "get_employees_with_company_country(employee_detail_list, company_detail_list)\n"
   ]
  },
  {
   "cell_type": "code",
   "execution_count": 7,
   "id": "41e94dea-497d-4377-a1cd-75105709c7ce",
   "metadata": {},
   "outputs": [
    {
     "data": {
      "text/plain": [
       "[{'company': 'Company 1',\n",
       "  'employee_nationality': {'Australia': 2, 'United Kingdom': 1}},\n",
       " {'company': 'Company 2',\n",
       "  'employee_nationality': {'United States': 1, 'Hong Kong': 1}},\n",
       " {'company': 'Company 3', 'employee_nationality': {'United States': 2}}]"
      ]
     },
     "execution_count": 7,
     "metadata": {},
     "output_type": "execute_result"
    }
   ],
   "source": [
    "from collections import defaultdict\n",
    "\n",
    "def get_company_nationalities(employee_list, company_list):\n",
    "    # Initialize a dictionary to store the results\n",
    "    company_nationality_count = defaultdict(lambda: defaultdict(int))\n",
    "    \n",
    "    # Count nationalities for each company\n",
    "    for employee in employee_list:\n",
    "        company = employee['company']\n",
    "        nationality = employee['nationality']\n",
    "        company_nationality_count[company][nationality] += 1\n",
    "    \n",
    "    # Format the result according to expected output\n",
    "    result = []\n",
    "    for company in company_list:\n",
    "        company_name = company['name']\n",
    "        result.append({\n",
    "            \"company\": company_name,\n",
    "            \"employee_nationality\": dict(company_nationality_count[company_name])\n",
    "        })\n",
    "    \n",
    "    return result\n",
    "\n",
    "# Testing the function with the provided data\n",
    "get_company_nationalities(employee_detail_list, company_detail_list)\n"
   ]
  },
  {
   "cell_type": "code",
   "execution_count": null,
   "id": "91a89195-6684-4b65-ae8d-13cbc23c1a0b",
   "metadata": {},
   "outputs": [],
   "source": []
  }
 ],
 "metadata": {
  "kernelspec": {
   "display_name": "Python 3 (ipykernel)",
   "language": "python",
   "name": "python3"
  },
  "language_info": {
   "codemirror_mode": {
    "name": "ipython",
    "version": 3
   },
   "file_extension": ".py",
   "mimetype": "text/x-python",
   "name": "python",
   "nbconvert_exporter": "python",
   "pygments_lexer": "ipython3",
   "version": "3.13.0rc3"
  }
 },
 "nbformat": 4,
 "nbformat_minor": 5
}
